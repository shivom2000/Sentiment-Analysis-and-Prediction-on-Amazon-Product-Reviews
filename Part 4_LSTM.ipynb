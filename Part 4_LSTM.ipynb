{
  "nbformat": 4,
  "nbformat_minor": 0,
  "metadata": {
    "colab": {
      "name": "Ecommerce_week_4.ipynb",
      "provenance": [],
      "collapsed_sections": []
    },
    "kernelspec": {
      "name": "python3",
      "display_name": "Python 3"
    },
    "language_info": {
      "name": "python"
    }
  },
  "cells": [
    {
      "cell_type": "code",
      "execution_count": null,
      "metadata": {
        "id": "kQlNEmLL7TPl"
      },
      "outputs": [],
      "source": [
        ""
      ]
    },
    {
      "cell_type": "code",
      "source": [
        "import pandas as pd\n",
        "import numpy as np\n",
        "from sklearn.feature_extraction.text import TfidfVectorizer, CountVectorizer\n",
        "from sklearn.decomposition import NMF, LatentDirichletAllocation\n",
        "from sklearn.preprocessing import label_binarize\n",
        "from sklearn.cluster import MiniBatchKMeans\n",
        "from sklearn.metrics import accuracy_score, homogeneity_score, silhouette_score, completeness_score\n",
        "from nltk.stem import WordNetLemmatizer\n",
        "import nltk\n",
        "import spacy \n",
        "import warnings \n",
        "warnings.filterwarnings(\"ignore\")"
      ],
      "metadata": {
        "id": "vwsF4JFLCByd"
      },
      "execution_count": null,
      "outputs": []
    },
    {
      "cell_type": "markdown",
      "metadata": {
        "id": "lAX3VCBDwN6G"
      },
      "source": [
        "Clustering similar reviews "
      ]
    },
    {
      "cell_type": "code",
      "source": [
        "train = pd.read_csv(\"train.csv\")"
      ],
      "metadata": {
        "id": "W1Ff4ISTGkG3"
      },
      "execution_count": null,
      "outputs": []
    },
    {
      "cell_type": "code",
      "execution_count": null,
      "metadata": {
        "id": "Sf0qmyKbwGbb",
        "colab": {
          "base_uri": "https://localhost:8080/"
        },
        "outputId": "339f6dd8-6127-4de8-d923-4c53c3ef33a6"
      },
      "outputs": [
        {
          "output_type": "execute_result",
          "data": {
            "text/plain": [
              "0       purchase black fridaypros great price even sal...\n",
              "1       purchase two amazon echo plus two dot plus fou...\n",
              "2       average alexa option show things screen still ...\n",
              "3                    good product exactly want good price\n",
              "4       rd one purchase buy one nieces case compare on...\n",
              "                              ...                        \n",
              "3995    äôs fun family play may get bore newness wear ...\n",
              "3996    love kindle great product reduce eye strain en...\n",
              "3997    look blutooth speaker use phone want worry thi...\n",
              "3998    second amazon fire tablet purchase time color ...\n",
              "3999                        satisfy tablet fast efficient\n",
              "Name: reviews.text, Length: 4000, dtype: object"
            ]
          },
          "metadata": {},
          "execution_count": 3
        }
      ],
      "source": [
        "# Clustering similar reviews using KMeans\n",
        "train['reviews.text']"
      ]
    },
    {
      "cell_type": "code",
      "source": [
        "vectorizer = TfidfVectorizer(max_features = 5000, max_df = 0.75, min_df=50)\n",
        "tf_vectors = vectorizer.fit_transform(train['reviews.text'])"
      ],
      "metadata": {
        "id": "ShkepILv1cy7"
      },
      "execution_count": null,
      "outputs": []
    },
    {
      "cell_type": "code",
      "source": [
        "Kmeans_cls = MiniBatchKMeans(n_clusters=5)\n",
        "Kmeans_cls.fit(tf_vectors)"
      ],
      "metadata": {
        "id": "gGsNsrZ_gsTf",
        "colab": {
          "base_uri": "https://localhost:8080/"
        },
        "outputId": "1d17214b-5d26-41e5-96a5-d60773bed955"
      },
      "execution_count": null,
      "outputs": [
        {
          "output_type": "execute_result",
          "data": {
            "text/plain": [
              "MiniBatchKMeans(n_clusters=5)"
            ]
          },
          "metadata": {},
          "execution_count": 5
        }
      ]
    },
    {
      "cell_type": "code",
      "source": [
        "labels_true = Kmeans_cls.labels_\n",
        "labels_true"
      ],
      "metadata": {
        "colab": {
          "base_uri": "https://localhost:8080/"
        },
        "id": "rluba1a1vsTT",
        "outputId": "45096e0b-a60d-498d-bcde-0159ad781ce6"
      },
      "execution_count": null,
      "outputs": [
        {
          "output_type": "execute_result",
          "data": {
            "text/plain": [
              "array([2, 1, 1, ..., 0, 2, 2], dtype=int32)"
            ]
          },
          "metadata": {},
          "execution_count": 6
        }
      ]
    },
    {
      "cell_type": "code",
      "source": [
        "labels_pred = Kmeans_cls.predict(tf_vectors)\n",
        "labels_pred"
      ],
      "metadata": {
        "colab": {
          "base_uri": "https://localhost:8080/"
        },
        "id": "LvaZASHGwAZd",
        "outputId": "2d611da0-caee-4301-ef75-8223003260cb"
      },
      "execution_count": null,
      "outputs": [
        {
          "output_type": "execute_result",
          "data": {
            "text/plain": [
              "array([2, 1, 1, ..., 0, 2, 2], dtype=int32)"
            ]
          },
          "metadata": {},
          "execution_count": 7
        }
      ]
    },
    {
      "cell_type": "code",
      "source": [
        "homogeneity_score (train[\"reviews.text\"], labels_pred)"
      ],
      "metadata": {
        "colab": {
          "base_uri": "https://localhost:8080/"
        },
        "id": "gbgwRWRox5Ko",
        "outputId": "a9cc8c06-d5bb-4ad2-fa38-b8e9d4079aea"
      },
      "execution_count": null,
      "outputs": [
        {
          "output_type": "execute_result",
          "data": {
            "text/plain": [
              "0.1860566611290765"
            ]
          },
          "metadata": {},
          "execution_count": 8
        }
      ]
    },
    {
      "cell_type": "code",
      "source": [
        "completeness_score (train['reviews.text'], labels_pred)"
      ],
      "metadata": {
        "colab": {
          "base_uri": "https://localhost:8080/"
        },
        "outputId": "1e4cc4c8-2f38-4ccb-b7a5-c52ad00d28ef",
        "id": "emkXMYYY26-p"
      },
      "execution_count": null,
      "outputs": [
        {
          "output_type": "execute_result",
          "data": {
            "text/plain": [
              "0.9999999999999992"
            ]
          },
          "metadata": {},
          "execution_count": 9
        }
      ]
    },
    {
      "cell_type": "code",
      "source": [
        "silhouette_score(tf_vectors, labels_pred)"
      ],
      "metadata": {
        "colab": {
          "base_uri": "https://localhost:8080/"
        },
        "id": "2d6TTrp1wuFW",
        "outputId": "39853fe6-386b-4f4a-90b5-4dedb7dc11b4"
      },
      "execution_count": null,
      "outputs": [
        {
          "output_type": "execute_result",
          "data": {
            "text/plain": [
              "0.016792044251747105"
            ]
          },
          "metadata": {},
          "execution_count": 10
        }
      ]
    },
    {
      "cell_type": "markdown",
      "source": [
        "Notes:\n",
        "\n",
        "> The silhoutte score indicates that there maybe some overlapping in the clusters. The model has low homogeneity. The almost perfect competeness score indicates that samples belonging to the same cluster where correctly assigned, perfect labelling\n",
        "\n",
        "\n"
      ],
      "metadata": {
        "id": "C9uRB90p3X_p"
      }
    },
    {
      "cell_type": "code",
      "source": [
        "# Topic modelling "
      ],
      "metadata": {
        "id": "RQZEMpHuAvfy"
      },
      "execution_count": null,
      "outputs": []
    },
    {
      "cell_type": "code",
      "source": [
        "# Processing text to lemmatize to nouns only for topic modelling \n",
        "spy = spacy.load('en_core_web_sm')\n",
        "def only_nouns(texts):\n",
        "  tokens = []\n",
        "  for doc in spy.pipe(texts):\n",
        "    noun_text = \" \".join(token.lemma_ for token in doc if token.pos_ =='NOUN')\n",
        "    tokens.append(noun_text)\n",
        "  return tokens\n",
        "train['reviews.text']= only_nouns(train['reviews.text'])"
      ],
      "metadata": {
        "id": "RQPMygUI-_Sk"
      },
      "execution_count": null,
      "outputs": []
    },
    {
      "cell_type": "code",
      "source": [
        "train[\"reviews.text\"]"
      ],
      "metadata": {
        "colab": {
          "base_uri": "https://localhost:8080/"
        },
        "id": "mkTFyseqGfta",
        "outputId": "22a18916-657a-45f1-84b3-700b8e8ea182"
      },
      "execution_count": null,
      "outputs": [
        {
          "output_type": "execute_result",
          "data": {
            "text/plain": [
              "0       fridaypro price sale core processor soundwell ...\n",
              "1       dot fire stick hub family purchase program new...\n",
              "2                                     option thing screen\n",
              "3                                           product price\n",
              "4       purchase niece case hold protect tablet time drop\n",
              "                              ...                        \n",
              "3995                             family play newness äôll\n",
              "3996                 love product eye strain enjoy kindle\n",
              "3997    speaker phone thing account dread news month o...\n",
              "3998          tablet purchase time color meet expectation\n",
              "3999                                                     \n",
              "Name: reviews.text, Length: 4000, dtype: object"
            ]
          },
          "metadata": {},
          "execution_count": 12
        }
      ]
    },
    {
      "cell_type": "code",
      "source": [
        "vectorizer = TfidfVectorizer(max_features = 5000, max_df = 0.75, min_df=10)\n",
        "features = vectorizer.fit_transform(train['reviews.text'])"
      ],
      "metadata": {
        "id": "DIE9xsz-HGkz"
      },
      "execution_count": null,
      "outputs": []
    },
    {
      "cell_type": "code",
      "source": [
        "lda = LatentDirichletAllocation(n_components=10, max_iter=3, learning_method='online', n_jobs = -1)\n",
        "W1 = lda.fit_transform(tf_vectors)\n",
        "H1 = lda.components_"
      ],
      "metadata": {
        "id": "gXIcHnbL3L3N"
      },
      "execution_count": null,
      "outputs": []
    },
    {
      "cell_type": "code",
      "source": [
        "num_words = 10\n",
        "vocabulary = np.array(vectorizer.get_feature_names())\n",
        "top_words = lambda t : [vocabulary[i] for i in np.argsort(t)[:-num_words-1:-1]]\n",
        "topic_words = ([top_words(t) for t in H1])\n",
        "topics=[\" \".join(t) for t in topic_words]"
      ],
      "metadata": {
        "id": "F4GeWCHl5JMt"
      },
      "execution_count": null,
      "outputs": []
    },
    {
      "cell_type": "code",
      "source": [
        "topics"
      ],
      "metadata": {
        "id": "FxY41DSc6A-m",
        "colab": {
          "base_uri": "https://localhost:8080/"
        },
        "outputId": "ba11125c-bcea-441a-bbd6-21175907c5d2"
      },
      "execution_count": null,
      "outputs": [
        {
          "output_type": "execute_result",
          "data": {
            "text/plain": [
              "['entertainment enjoy lock complaint charger mine graphic gift camera app',\n",
              " 'hd operate mode display drawback hub mini inch oasis news',\n",
              " 'button help parent mini hour kind get drawback bedroom paperwhite',\n",
              " 'mini answer graphic pair family display news compare drawback dot',\n",
              " 'check adult line drawback connect get grandson deal love enjoy',\n",
              " 'cover fan mini family get drawback content ebook holiday customer',\n",
              " 'package internet control news alexa kid drop movie feature lyric',\n",
              " 'chat news drawback download lightweight mini info game pair get',\n",
              " 'difference get lot brand ease device bedroom child fit interest',\n",
              " 'bed item job friend fan buy command disappoint guess couple']"
            ]
          },
          "metadata": {},
          "execution_count": 16
        }
      ]
    },
    {
      "cell_type": "code",
      "execution_count": null,
      "metadata": {
        "id": "jFZ_KJJwwYvT"
      },
      "outputs": [],
      "source": [
        "# Perform topic modelling using Non Negative Matrix factorization NMF"
      ]
    },
    {
      "cell_type": "code",
      "source": [
        "nmf_model = NMF(n_components = 10)\n",
        "W = nmf_model.fit_transform(features)\n",
        "H = nmf_model.components_\n",
        "feature_names = vectorizer.get_feature_names()"
      ],
      "metadata": {
        "id": "JAmU2UfwouaF"
      },
      "execution_count": null,
      "outputs": []
    },
    {
      "cell_type": "code",
      "source": [
        "num_words = 10\n",
        "for i, topic_vec in enumerate(H):\n",
        "  print(i, end=\" \")\n",
        "  for fid in topic_vec.argsort()[-1:-num_words-1:-1]:\n",
        "    print (feature_names[fid], end=\" \")\n",
        "  print()"
      ],
      "metadata": {
        "colab": {
          "base_uri": "https://localhost:8080/"
        },
        "id": "84Vc3oy8Hndq",
        "outputId": "38ef4265-f6a2-4649-e9a6-b0f00f973c28"
      },
      "execution_count": null,
      "outputs": [
        {
          "output_type": "stream",
          "name": "stdout",
          "text": [
            "0 tablet child fire app year time purchase need daughter store \n",
            "1 love year daughter wife granddaughter age grandson reader camera fact \n",
            "2 use set daughter fire fun day lot mom ease item \n",
            "3 product set child family service friend purchase fun quality parent \n",
            "4 echo music device screen video show dot home speaker feature \n",
            "5 gift wife purchase year mother son birthday granddaughter fire item \n",
            "6 kid app time year lot control case adult thing child \n",
            "7 book game play read year purchase size fire download movie \n",
            "8 price quality size value feature sale buy beat screen ipad \n",
            "9 work app set download issue item camera need enjoy problem \n"
          ]
        }
      ]
    },
    {
      "cell_type": "code",
      "source": [
        "# contents of each topic \n",
        "num_words = 10\n",
        "vocabulary = np.array(vectorizer.get_feature_names())\n",
        "top_words = lambda t : [vocabulary[i] for i in np.argsort(t)[:-num_words-1:-1]]\n",
        "topic_words = ([top_words(t) for t in H])\n",
        "topics=[\" \".join(t) for t in topic_words]"
      ],
      "metadata": {
        "id": "6grwsbMzqbng"
      },
      "execution_count": null,
      "outputs": []
    },
    {
      "cell_type": "code",
      "source": [
        "topics "
      ],
      "metadata": {
        "id": "CFeJhbVqqeIF",
        "colab": {
          "base_uri": "https://localhost:8080/"
        },
        "outputId": "d4efafc8-d02a-4a7f-d9d7-a3af19853003"
      },
      "execution_count": null,
      "outputs": [
        {
          "output_type": "execute_result",
          "data": {
            "text/plain": [
              "['echo alexa show music amazon home sound like plus light',\n",
              " 'tablet need price amazon fire apps nice perfect game daughter',\n",
              " 'love daughter gift absolutely get christmas son wife granddaughter grandson',\n",
              " 'use easy set product light purchase fun every really day',\n",
              " 'kindle read book fire like size screen light much new',\n",
              " 'great work price product sound well recommend battery item quality',\n",
              " 'buy one best gift christmas get wife would replace another',\n",
              " 'good product recommend price would quality pretty excellent sound really',\n",
              " 'old year purchase game grandson play perfect granddaughter son years',\n",
              " 'kid apps game lot play like little friendly really enjoy']"
            ]
          },
          "metadata": {},
          "execution_count": 16
        }
      ]
    }
  ]
}