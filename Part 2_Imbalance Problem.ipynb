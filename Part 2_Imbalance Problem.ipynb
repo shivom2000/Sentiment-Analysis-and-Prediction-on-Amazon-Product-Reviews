{
  "cells": [
    {
      "cell_type": "markdown",
      "metadata": {
        "id": "ouN5oAhbTb-P"
      },
      "source": [
        "# E Commerce AI project "
      ]
    },
    {
      "cell_type": "markdown",
      "metadata": {
        "id": "Eui--LB1exHr"
      },
      "source": [
        "**Week 2 tasks - Machine Learning Modelling**"
      ]
    },
    {
      "cell_type": "code",
      "execution_count": null,
      "metadata": {
        "id": "Aj2jluZETh1z"
      },
      "outputs": [],
      "source": [
        "# Importing libraries \n",
        "import os\n",
        "import pandas as pd\n",
        "import numpy as np\n",
        "import seaborn as sns \n",
        "import matplotlib.pyplot as plt\n",
        "\n",
        "from sklearn.naive_bayes import MultinomialNB\n",
        "from sklearn.metrics import accuracy_score, classification_report\n",
        "from sklearn.ensemble import RandomForestClassifier\n",
        "from sklearn.ensemble import VotingClassifier\n",
        "from sklearn.svm import SVC\n",
        "from xgboost import XGBClassifier\n",
        "from imblearn.combine import SMOTETomek\n",
        "import Textblob as TextBlob\n",
        "import nltk\n",
        "from nltk.sentiment.vader import SentimentIntensityAnalyzer\n",
        "\n",
        "import warnings \n",
        "warnings.filterwarnings(\"ignore\")"
      ]
    },
    {
      "cell_type": "code",
      "execution_count": null,
      "metadata": {
        "id": "09hQW6YtUWTX"
      },
      "outputs": [],
      "source": [
        "#Loading datasets \n",
        "train = pd.read_csv(\"train.csv\")\n",
        "hidden = pd.read_csv(\"test_data_hidden.csv\", parse_dates=[\"reviews.date\"])"
      ]
    },
    {
      "cell_type": "code",
      "execution_count": null,
      "metadata": {
        "id": "K7BLvb3C5vkb"
      },
      "outputs": [],
      "source": [
        "# Building ML model\n",
        "X_train = train[\"reviews.text\"]\n",
        "X_test =  hidden[\"reviews.text\"]\n",
        "y_train = train[\"sentiment\"]\n",
        "y_test = hidden[\"sentiment\"]"
      ]
    },
    {
      "cell_type": "code",
      "execution_count": null,
      "metadata": {
        "id": "HA8Y8BlD0jvD"
      },
      "outputs": [],
      "source": [
        "# Converting reviews to vectors  using Tf-idf score\n",
        "vectorizer = TfidfVectorizer(ngram_range=(1,2))\n",
        "X_train_vec = vectorizer.fit_transform(X_train)\n",
        "X_test_vec = vectorizer.transform(X_test)\n"
      ]
    },
    {
      "cell_type": "markdown",
      "metadata": {
        "id": "UJczQABcA4Cq"
      },
      "source": [
        "**ML model building - Base model with imbalanced dataset** "
      ]
    },
    {
      "cell_type": "code",
      "execution_count": null,
      "metadata": {
        "colab": {
          "base_uri": "https://localhost:8080/"
        },
        "id": "_H0Lsz-StGzz",
        "outputId": "9c8c2c6b-40af-4dfc-dfa1-b3647b4a0a44"
      },
      "outputs": [
        {
          "output_type": "stream",
          "name": "stdout",
          "text": [
            "MultinimialNB train score is 0.9370877727042111, test score is 0.9368104312938816\n",
            "\n",
            "Train classification report\n",
            "               precision    recall  f1-score   support\n",
            "\n",
            "    Negative       0.00      0.00      0.00        90\n",
            "     Neutral       0.00      0.00      0.00       158\n",
            "    Positive       0.94      1.00      0.97      3694\n",
            "\n",
            "    accuracy                           0.94      3942\n",
            "   macro avg       0.31      0.33      0.32      3942\n",
            "weighted avg       0.88      0.94      0.91      3942\n",
            "\n",
            "Test classification report\n",
            "               precision    recall  f1-score   support\n",
            "\n",
            "    Negative       0.00      0.00      0.00        24\n",
            "     Neutral       0.00      0.00      0.00        39\n",
            "    Positive       0.94      1.00      0.97       934\n",
            "\n",
            "    accuracy                           0.94       997\n",
            "   macro avg       0.31      0.33      0.32       997\n",
            "weighted avg       0.88      0.94      0.91       997\n",
            "\n"
          ]
        }
      ],
      "source": [
        "# Multinomial Naive Bayes classifyer with imbalanced data\n",
        "mnb_model = MultinomialNB()\n",
        "mnb_model.fit(X_train_vec.toarray(),y_train)\n",
        "# Model performance \n",
        "train_accuracy = mnb_model.score(X_train_vec.toarray(), y_train)\n",
        "test_accuracy = mnb_model.score(X_test_vec.toarray(), y_test)\n",
        "print(f\"MultinimialNB train score is {train_accuracy}, test score is {test_accuracy}\")\n",
        "#print(train_accuracy , test_accuracy)\n",
        "print()\n",
        "# Train prediction\n",
        "train_predictions = mnb_model.predict(X_train_vec.toarray())\n",
        "train_report = classification_report(y_train, train_predictions)\n",
        "print(\"Train classification report\\n\", train_report)\n",
        "# Test prediction \n",
        "test_predictions = mnb_model.predict(X_test_vec.toarray())\n",
        "test_report = classification_report(y_test, test_predictions)\n",
        "print('Test classification report\\n', test_report)"
      ]
    },
    {
      "cell_type": "markdown",
      "metadata": {
        "id": "6kNYo4LoVfJV"
      },
      "source": [
        "Notes\n",
        "\n",
        "> There is a slight difference between train and test accuracy on the base model so overfitting or underfitting are ruled out \n",
        "\n"
      ]
    },
    {
      "cell_type": "code",
      "execution_count": null,
      "metadata": {
        "colab": {
          "base_uri": "https://localhost:8080/"
        },
        "id": "1eBYStm2P06e",
        "outputId": "c11255ae-86e5-45c3-d767-43fd191c8d82"
      },
      "outputs": [
        {
          "output_type": "execute_result",
          "data": {
            "text/plain": [
              "array(['Positive', 'Positive', 'Positive', 'Positive', 'Positive',\n",
              "       'Positive', 'Positive', 'Positive', 'Positive', 'Positive',\n",
              "       'Positive', 'Positive', 'Positive', 'Positive', 'Positive',\n",
              "       'Positive', 'Positive', 'Positive', 'Positive', 'Positive',\n",
              "       'Positive', 'Positive', 'Positive', 'Positive', 'Positive',\n",
              "       'Positive', 'Positive', 'Positive', 'Positive', 'Positive',\n",
              "       'Positive', 'Positive', 'Positive', 'Positive', 'Positive',\n",
              "       'Positive', 'Positive', 'Positive', 'Positive', 'Positive',\n",
              "       'Positive', 'Positive', 'Positive', 'Positive', 'Positive',\n",
              "       'Positive', 'Positive', 'Positive', 'Positive', 'Positive',\n",
              "       'Positive', 'Positive', 'Positive', 'Positive', 'Positive',\n",
              "       'Positive', 'Positive', 'Positive', 'Positive', 'Positive',\n",
              "       'Positive', 'Positive', 'Positive', 'Positive', 'Positive',\n",
              "       'Positive', 'Positive', 'Positive', 'Positive', 'Positive',\n",
              "       'Positive', 'Positive', 'Positive', 'Positive', 'Positive',\n",
              "       'Positive', 'Positive', 'Positive', 'Positive', 'Positive',\n",
              "       'Positive', 'Positive', 'Positive', 'Positive', 'Positive',\n",
              "       'Positive', 'Positive', 'Positive', 'Positive', 'Positive',\n",
              "       'Positive', 'Positive', 'Positive', 'Positive', 'Positive',\n",
              "       'Positive', 'Positive', 'Positive', 'Positive', 'Positive'],\n",
              "      dtype='<U8')"
            ]
          },
          "metadata": {},
          "execution_count": 19
        }
      ],
      "source": [
        "test_pred = mnb_model.predict(X_test_vec.toarray())\n",
        "test_pred[0:100]"
      ]
    },
    {
      "cell_type": "markdown",
      "metadata": {
        "id": "cE4rpZy3R23n"
      },
      "source": [
        "Observation\n",
        "\n",
        "> The bias in the dataset resulted in all predictions to be biased towards the majority class, hence there is need to balance the dataset\n",
        "\n",
        "> Failure to treat imbalanced dataset degrades the performance of the classifier model hence balancing the dataset is a necessity \n",
        "\n",
        "\n",
        "\n"
      ]
    },
    {
      "cell_type": "markdown",
      "metadata": {
        "id": "TulCqb3fU7La"
      },
      "source": [
        "Tackling the imbalanced dataset problem"
      ]
    },
    {
      "cell_type": "code",
      "execution_count": null,
      "metadata": {
        "id": "89gHjNjQBxZ1"
      },
      "outputs": [],
      "source": [
        "# Hybridization - Combining smote and undersampling using SmoteTomek technique \n",
        "smt = SMOTETomek()\n",
        "x_train_smt, y_train_smt = smt.fit_resample(X_train_vec, y_train)"
      ]
    },
    {
      "cell_type": "markdown",
      "metadata": {
        "id": "seAc9fXtaEnB"
      },
      "source": [
        "Notes\n",
        "\n",
        "> Smotetomek algorithm is only applied to train data. The test data remain unchanged so that it represents the original data \n",
        "\n"
      ]
    },
    {
      "cell_type": "code",
      "execution_count": null,
      "metadata": {
        "colab": {
          "base_uri": "https://localhost:8080/",
          "height": 348
        },
        "id": "3MmAOozUC3x4",
        "outputId": "721b460d-da53-41cf-c298-cf4dce10775b"
      },
      "outputs": [
        {
          "output_type": "execute_result",
          "data": {
            "text/plain": [
              "Positive    3749\n",
              "Neutral     3749\n",
              "Negative    3749\n",
              "Name: sentiment, dtype: int64"
            ]
          },
          "metadata": {},
          "execution_count": 21
        },
        {
          "output_type": "display_data",
          "data": {
            "text/plain": [
              "<Figure size 432x288 with 1 Axes>"
            ],
            "image/png": "[encoded data removed]"
          },
          "metadata": {
            "needs_background": "light"
          }
        }
      ],
      "source": [
        "sns.countplot(y_train_smt)\n",
        "y_train_smt.value_counts()"
      ]
    },
    {
      "cell_type": "code",
      "execution_count": null,
      "metadata": {
        "colab": {
          "base_uri": "https://localhost:8080/"
        },
        "id": "h244OOEOE_Cs",
        "outputId": "b789ca07-9dc8-4802-d202-32cb1f7f815a"
      },
      "outputs": [
        {
          "output_type": "stream",
          "name": "stdout",
          "text": [
            "MultinomialNB train score for smt balanced dataset is 0.9658003970402455, test score is 0.8495486459378134\n",
            "\n",
            "Test classification report\n",
            "               precision    recall  f1-score   support\n",
            "\n",
            "    Negative       0.27      0.50      0.35        24\n",
            "     Neutral       0.16      0.46      0.24        39\n",
            "    Positive       0.97      0.87      0.92       934\n",
            "\n",
            "    accuracy                           0.85       997\n",
            "   macro avg       0.47      0.61      0.50       997\n",
            "weighted avg       0.92      0.85      0.88       997\n",
            "\n"
          ]
        }
      ],
      "source": [
        "# Multinomial Naive Bayes classifyer with balanced data - SMOTTomek\n",
        "mnb_smt_model = MultinomialNB()\n",
        "mnb_smt_model.fit(x_train_smt.toarray(),y_train_smt)\n",
        "# Model performance \n",
        "train_smt_accuracy = mnb_smt_model.score(x_train_smt.toarray(), y_train_smt)\n",
        "test_smt_accuracy = mnb_smt_model.score(X_test_vec.toarray(), y_test)\n",
        "print(f\"MultinomialNB train score for smt balanced dataset is {train_smt_accuracy}, test score is {test_smt_accuracy}\")\n",
        "print()\n",
        "# Test prediction \n",
        "smt_test_predictions = mnb_smt_model.predict(X_test_vec.toarray())\n",
        "smt_test_report = classification_report(y_test, smt_test_predictions)\n",
        "print('Test classification report\\n', smt_test_report)"
      ]
    },
    {
      "cell_type": "code",
      "execution_count": null,
      "metadata": {
        "colab": {
          "base_uri": "https://localhost:8080/"
        },
        "id": "E-8B-574KtaG",
        "outputId": "2260ed6b-c2c1-462b-9947-3c14c43195d1"
      },
      "outputs": [
        {
          "data": {
            "text/plain": [
              "array(['Positive', 'Positive', 'Positive', 'Positive', 'Positive',\n",
              "       'Positive', 'Positive', 'Positive', 'Positive', 'Positive',\n",
              "       'Positive', 'Positive', 'Positive', 'Positive', 'Positive',\n",
              "       'Positive', 'Positive', 'Positive', 'Positive', 'Positive',\n",
              "       'Positive', 'Negative', 'Positive', 'Positive', 'Positive',\n",
              "       'Positive', 'Positive', 'Neutral', 'Positive', 'Positive',\n",
              "       'Positive', 'Neutral', 'Positive', 'Positive', 'Positive',\n",
              "       'Positive', 'Positive', 'Positive', 'Neutral', 'Positive',\n",
              "       'Positive', 'Positive', 'Positive', 'Positive', 'Neutral',\n",
              "       'Positive', 'Positive', 'Positive', 'Positive', 'Positive',\n",
              "       'Negative', 'Positive', 'Positive', 'Neutral', 'Positive',\n",
              "       'Positive', 'Positive', 'Positive', 'Negative', 'Neutral',\n",
              "       'Positive', 'Positive', 'Positive', 'Positive', 'Positive',\n",
              "       'Positive', 'Positive', 'Positive', 'Positive', 'Positive',\n",
              "       'Negative', 'Positive', 'Positive', 'Positive', 'Positive',\n",
              "       'Positive', 'Positive', 'Positive', 'Positive', 'Positive',\n",
              "       'Positive', 'Positive', 'Positive', 'Negative', 'Negative',\n",
              "       'Positive', 'Positive', 'Positive', 'Positive', 'Positive',\n",
              "       'Neutral', 'Positive', 'Neutral', 'Neutral', 'Positive',\n",
              "       'Positive', 'Neutral', 'Positive', 'Positive', 'Positive'],\n",
              "      dtype='<U8')"
            ]
          },
          "execution_count": 33,
          "metadata": {},
          "output_type": "execute_result"
        }
      ],
      "source": [
        "balanced_test_pred = mnb_smt_model.predict(X_test_vec.toarray())\n",
        "balanced_test_pred[0:100]"
      ]
    },
    {
      "cell_type": "markdown",
      "metadata": {
        "id": "ZLQJLSlTK7GP"
      },
      "source": [
        "Observations\n",
        "\n",
        "> Balancing the dataset enabled all the three sentiments (positive, negative and neutral) to be predicted in the model\n"
      ]
    },
    {
      "cell_type": "code",
      "execution_count": null,
      "metadata": {
        "id": "detVex0tLzFO"
      },
      "outputs": [],
      "source": [
        "# Tree based models "
      ]
    },
    {
      "cell_type": "code",
      "execution_count": null,
      "metadata": {
        "colab": {
          "base_uri": "https://localhost:8080/"
        },
        "id": "SoxWSaTRZCDz",
        "outputId": "312ff618-0c1e-4d5e-c824-56d272dd377d"
      },
      "outputs": [
        {
          "output_type": "stream",
          "name": "stdout",
          "text": [
            "Random forest train score for balanced dataset is 1.0, test score is 0.9528585757271816\n",
            "\n",
            "Test classification report\n",
            "               precision    recall  f1-score   support\n",
            "\n",
            "    Negative       1.00      0.33      0.50        24\n",
            "     Neutral       0.77      0.26      0.38        39\n",
            "    Positive       0.95      1.00      0.98       934\n",
            "\n",
            "    accuracy                           0.95       997\n",
            "   macro avg       0.91      0.53      0.62       997\n",
            "weighted avg       0.95      0.95      0.94       997\n",
            "\n"
          ]
        }
      ],
      "source": [
        "# Model building using tree based models- Random Forest classifier balanced data\n",
        "rcf_balanced_model = RandomForestClassifier()\n",
        "rcf_balanced_model.fit(x_train_smt.toarray(),y_train_smt)\n",
        "# Model performance \n",
        "train_smt_accuracy = rcf_balanced_model.score(x_train_smt.toarray(), y_train_smt)\n",
        "test_smt_accuracy = rcf_balanced_model.score(X_test_vec.toarray(), y_test)\n",
        "print(f\"Random forest train score for balanced dataset is {train_smt_accuracy}, test score is {test_smt_accuracy}\")\n",
        "print()\n",
        "# Test prediction \n",
        "balanced_test_predictions = rcf_balanced_model.predict(X_test_vec.toarray())\n",
        "balanced_test_report = classification_report(y_test, balanced_test_predictions)\n",
        "print('Test classification report\\n', balanced_test_report)"
      ]
    },
    {
      "cell_type": "code",
      "execution_count": null,
      "metadata": {
        "colab": {
          "base_uri": "https://localhost:8080/"
        },
        "id": "32Wnd13aZmmJ",
        "outputId": "3b74b678-c7c9-4ceb-a341-988e0cbf43af"
      },
      "outputs": [
        {
          "name": "stdout",
          "output_type": "stream",
          "text": [
            "XGBoost train score for balanced dataset is 0.9562353365818445, test score is 0.8916750250752257\n",
            "\n",
            "Test classification report\n",
            "               precision    recall  f1-score   support\n",
            "\n",
            "    Negative       0.29      0.38      0.33        24\n",
            "     Neutral       0.23      0.38      0.29        39\n",
            "    Positive       0.96      0.93      0.94       934\n",
            "\n",
            "    accuracy                           0.89       997\n",
            "   macro avg       0.49      0.56      0.52       997\n",
            "weighted avg       0.92      0.89      0.90       997\n",
            "\n"
          ]
        }
      ],
      "source": [
        "# XGBoostClassifier with balanced data \n",
        "xgb_balanced_model = XGBClassifier()\n",
        "xgb_balanced_model.fit(x_train_smt.toarray(),y_train_smt)\n",
        "# Model performance \n",
        "train_smt_accuracy = xgb_balanced_model.score(x_train_smt.toarray(), y_train_smt)\n",
        "test_smt_accuracy = xgb_balanced_model.score(X_test_vec.toarray(), y_test)\n",
        "print(f\"XGBoost train score for balanced dataset is {train_smt_accuracy}, test score is {test_smt_accuracy}\")\n",
        "print()\n",
        "# Test prediction \n",
        "balanced_test_predictions = xgb_balanced_model.predict(X_test_vec.toarray())\n",
        "balanced_test_report = classification_report(y_test, balanced_test_predictions)\n",
        "print('Test classification report\\n', balanced_test_report)"
      ]
    },
    {
      "cell_type": "code",
      "execution_count": null,
      "metadata": {
        "colab": {
          "base_uri": "https://localhost:8080/"
        },
        "id": "qKbFujc_uWjM",
        "outputId": "ddb5692d-3c15-4995-bcfc-e421819babd0"
      },
      "outputs": [
        {
          "data": {
            "text/plain": [
              "{'max_depth': 20, 'n_estimators': 50}"
            ]
          },
          "execution_count": 37,
          "metadata": {},
          "output_type": "execute_result"
        }
      ],
      "source": [
        "# Hyper parameter tuning \n",
        "rfc_model = RandomForestClassifier()\n",
        "parameters = [{\"n_estimators\": [5,10,25,50], \"max_depth\":[5,10,15,20]}]\n",
        "clf = GridSearchCV(rfc_model, parameters, cv=5, scoring=\"accuracy\")\n",
        "clf.fit(x_train_smt, y_train_smt)\n",
        "clf.best_params_"
      ]
    },
    {
      "cell_type": "markdown",
      "metadata": {
        "id": "P4xO0gv65iTf"
      },
      "source": [
        "Inference:\n",
        "\n",
        "> Random forest classifier model has the highest accuarcy and f1_score hence performed best compared to multinomialNB and Xgboost classifier\n",
        "\n",
        "\n",
        "> Best parameters for the random forest classifier were obtained after performing hyper parameter tuning i.e. a max_depth of 20 and n_estimators is 50\n",
        "\n",
        "\n",
        "\n",
        "\n",
        "\n",
        "\n"
      ]
    },
    {
      "cell_type": "code",
      "execution_count": null,
      "metadata": {
        "colab": {
          "base_uri": "https://localhost:8080/"
        },
        "id": "sV0KKD0_KaDb",
        "outputId": "b7def34b-9f1d-49ad-ce00-4fd462b88eb0"
      },
      "outputs": [
        {
          "name": "stdout",
          "output_type": "stream",
          "text": [
            "Ensemble train score for balanced dataset is 0.9544306081934669, test score is 0.8054162487462387\n",
            "\n",
            "Test classification report\n",
            "               precision    recall  f1-score   support\n",
            "\n",
            "    Negative       0.21      0.54      0.30        24\n",
            "     Neutral       0.14      0.51      0.22        39\n",
            "    Positive       0.98      0.82      0.89       934\n",
            "\n",
            "    accuracy                           0.81       997\n",
            "   macro avg       0.44      0.63      0.47       997\n",
            "weighted avg       0.92      0.81      0.85       997\n",
            "\n"
          ]
        }
      ],
      "source": [
        "# Using ensemble techniques ( XGBoost + MultinomialNB)\n",
        "ensemble = VotingClassifier([('M1', mnb_smt_model),\n",
        "                             ('M2', xgb_balanced_model)])\n",
        "ensemble.fit(x_train_smt.toarray(),y_train_smt)\n",
        "# Model performance \n",
        "ensemble_train_accuracy = ensemble.score(x_train_smt.toarray(), y_train_smt)\n",
        "ensemble_test_accuracy = ensemble.score(X_test_vec.toarray(), y_test)\n",
        "print(f\"Ensemble train score for balanced dataset is {ensemble_train_accuracy}, test score is {ensemble_test_accuracy}\")\n",
        "print()\n",
        "# Test prediction \n",
        "ensemble_predictions = ensemble.predict(X_test_vec.toarray())\n",
        "ensemble_test_report = classification_report(y_test, ensemble_predictions)\n",
        "print('Test classification report\\n', ensemble_test_report)"
      ]
    },
    {
      "cell_type": "code",
      "execution_count": null,
      "metadata": {
        "colab": {
          "base_uri": "https://localhost:8080/"
        },
        "id": "p8UhnoZ4aJJF",
        "outputId": "4ede6195-579b-4717-de27-30c79de264ab"
      },
      "outputs": [
        {
          "name": "stdout",
          "output_type": "stream",
          "text": [
            "Ensemble train accuracy score for balanced dataset is 0.9692293809781628, test score is 0.8495486459378134\n",
            "\n",
            "Test classification report\n",
            "               precision    recall  f1-score   support\n",
            "\n",
            "    Negative       0.27      0.50      0.35        24\n",
            "     Neutral       0.16      0.46      0.24        39\n",
            "    Positive       0.97      0.87      0.92       934\n",
            "\n",
            "    accuracy                           0.85       997\n",
            "   macro avg       0.47      0.61      0.50       997\n",
            "weighted avg       0.92      0.85      0.88       997\n",
            "\n"
          ]
        }
      ],
      "source": [
        "# Using ensemble techniques ( MultinomialNB + RandomForest)\n",
        "ensemble = VotingClassifier([('M1', mnb_smt_model),\n",
        "                             ('M2', rcf_balanced_model)])\n",
        "ensemble.fit(x_train_smt.toarray(),y_train_smt)\n",
        "# Model performance \n",
        "ensemble_train_accuracy = ensemble.score(x_train_smt.toarray(), y_train_smt)\n",
        "ensemble_test_accuracy = ensemble.score(X_test_vec.toarray(), y_test)\n",
        "print(f\"Ensemble train accuracy score for balanced dataset is {ensemble_train_accuracy}, test score is {ensemble_test_accuracy}\")\n",
        "print()\n",
        "# Test prediction \n",
        "ensemble_predictions = ensemble.predict(X_test_vec.toarray())\n",
        "ensemble_test_report = classification_report(y_test, ensemble_predictions)\n",
        "print('Test classification report\\n', ensemble_test_report)"
      ]
    },
    {
      "cell_type": "markdown",
      "metadata": {
        "id": "stiKapKiunJp"
      },
      "source": [
        "Week 2 tasks "
      ]
    },
    {
      "cell_type": "code",
      "execution_count": null,
      "metadata": {
        "colab": {
          "base_uri": "https://localhost:8080/"
        },
        "id": "D2d8bm14FPsh",
        "outputId": "1df8ade0-ac9f-4824-c7f4-b8b3034ca45c"
      },
      "outputs": [
        {
          "output_type": "stream",
          "name": "stdout",
          "text": [
            "SVM train score for balanced dataset is 0.9999097635805811, test score is 0.9538615847542627\n",
            "\n",
            "Test classification report\n",
            "               precision    recall  f1-score   support\n",
            "\n",
            "    Negative       1.00      0.29      0.45        24\n",
            "     Neutral       1.00      0.26      0.41        39\n",
            "    Positive       0.95      1.00      0.98       934\n",
            "\n",
            "    accuracy                           0.95       997\n",
            "   macro avg       0.98      0.52      0.61       997\n",
            "weighted avg       0.96      0.95      0.94       997\n",
            "\n"
          ]
        }
      ],
      "source": [
        "# Model building using SVM\n",
        "svm_classifier = SVC()\n",
        "svm_classifier.fit(x_train_smt.toarray(),y_train_smt)\n",
        "# Model performance \n",
        "train_smt_accuracy = svm_classifier.score(x_train_smt.toarray(), y_train_smt)\n",
        "test_smt_accuracy = svm_classifier.score(X_test_vec.toarray(), y_test)\n",
        "print(f\"SVM train score for balanced dataset is {train_smt_accuracy}, test score is {test_smt_accuracy}\")\n",
        "print()\n",
        "# Test prediction \n",
        "balanced_test_predictions = svm_classifier.predict(X_test_vec.toarray())\n",
        "balanced_test_report = classification_report(y_test, balanced_test_predictions)\n",
        "print('Test classification report\\n', balanced_test_report)"
      ]
    },
    {
      "cell_type": "code",
      "source": [
        "# Engineering sentiment scores "
      ],
      "metadata": {
        "id": "fTiG9OzmdPd8"
      },
      "execution_count": null,
      "outputs": []
    },
    {
      "cell_type": "code",
      "source": [
        "# Using vader sentiment intensity analyser\n",
        "nltk.download(\"vader_lexicon\")"
      ],
      "metadata": {
        "colab": {
          "base_uri": "https://localhost:8080/"
        },
        "id": "gfiun91TW0Co",
        "outputId": "cfb916ee-5335-4583-9c34-fdc0a8eb65ea"
      },
      "execution_count": null,
      "outputs": [
        {
          "output_type": "stream",
          "name": "stdout",
          "text": [
            "[nltk_data] Downloading package vader_lexicon to /root/nltk_data...\n",
            "[nltk_data]   Package vader_lexicon is already up-to-date!\n"
          ]
        },
        {
          "output_type": "execute_result",
          "data": {
            "text/plain": [
              "True"
            ]
          },
          "metadata": {},
          "execution_count": 18
        }
      ]
    },
    {
      "cell_type": "code",
      "source": [
        "sentiment = SentimentIntensityAnalyzer()\n",
        "polarity = [round(sentiment.polarity_scores(i)['compound'], 2) for i in train[\"reviews.text\"]]\n",
        "train[\"sentiment_scores\"] = polarity\n",
        "       "
      ],
      "metadata": {
        "id": "nXQN2DPjTfw3"
      },
      "execution_count": null,
      "outputs": []
    },
    {
      "cell_type": "code",
      "source": [
        "def sentiment_score(score):\n",
        "  if score < 0:\n",
        "    return 'negative'\n",
        "  elif score == 0:\n",
        "    return 'neutral'\n",
        "  else:\n",
        "    return \"positive\"\n",
        "train[\"label\"] = train[\"sentiment_scores\"].apply(sentiment_score)"
      ],
      "metadata": {
        "id": "Km1rQa-wkleq"
      },
      "execution_count": null,
      "outputs": []
    },
    {
      "cell_type": "code",
      "source": [
        "y_scores = train['label']"
      ],
      "metadata": {
        "id": "muRQ3xk2gwt8"
      },
      "execution_count": null,
      "outputs": []
    },
    {
      "cell_type": "code",
      "source": [
        "def calc_subjectivity (text):\n",
        "  return TextBlob(text).sentiment.subjectivity\n",
        "def calc_polarity (text):\n",
        "  return TextBlob(text).sentiment.subjectivity\n",
        "train[\"subjectivity\"]= train[\"reviews.text\"].apply(calc_subjectivity)\n",
        "train[\"polarity\"] = train[\"reviews.text\"].apply(calc_polarity)"
      ],
      "metadata": {
        "id": "L-PGIfQNtiO2"
      },
      "execution_count": null,
      "outputs": []
    },
    {
      "cell_type": "code",
      "source": [
        "def scores (score):\n",
        "  if score <0:\n",
        "    return 'negative'\n",
        "  elif score ==0:\n",
        "    return 'neutral'\n",
        "  else:\n",
        "    return 'positive'\n",
        "train['score'] = train['polarity'].apply(getanalysis)"
      ],
      "metadata": {
        "id": "OVJR8eWVuxeC"
      },
      "execution_count": null,
      "outputs": []
    },
    {
      "cell_type": "code",
      "source": [
        "train.head()"
      ],
      "metadata": {
        "colab": {
          "base_uri": "https://localhost:8080/",
          "height": 250
        },
        "id": "u8U386LvvTHa",
        "outputId": "a5bfe85d-94ab-4b51-d14d-fc63ef123070"
      },
      "execution_count": null,
      "outputs": [
        {
          "output_type": "execute_result",
          "data": {
            "text/plain": [
              "                                        reviews.text sentiment  \\\n",
              "0  purchase black fridaypros great price even sal...  Positive   \n",
              "1  purchase two amazon echo plus two dot plus fou...  Positive   \n",
              "2  average alexa option show things screen still ...   Neutral   \n",
              "3               good product exactly want good price  Positive   \n",
              "4  rd one purchase buy one nieces case compare on...  Positive   \n",
              "\n",
              "   sentiment_scores     label  subjectivity  polarity     score  \n",
              "0              0.96  positive      0.693056  0.693056  positive  \n",
              "1              0.96  positive      0.498214  0.498214  positive  \n",
              "2              0.00   neutral      0.400000  0.400000  positive  \n",
              "3              0.73  positive      0.483333  0.483333  positive  \n",
              "4              0.13  positive      0.500000  0.500000  positive  "
            ],
            "text/html": [
              "\n",
              "  <div id=\"df-0b09305a-4ac1-4aff-a895-1c5a7593054b\">\n",
              "    <div class=\"colab-df-container\">\n",
              "      <div>\n",
              "<style scoped>\n",
              "    .dataframe tbody tr th:only-of-type {\n",
              "        vertical-align: middle;\n",
              "    }\n",
              "\n",
              "    .dataframe tbody tr th {\n",
              "        vertical-align: top;\n",
              "    }\n",
              "\n",
              "    .dataframe thead th {\n",
              "        text-align: right;\n",
              "    }\n",
              "</style>\n",
              "<table border=\"1\" class=\"dataframe\">\n",
              "  <thead>\n",
              "    <tr style=\"text-align: right;\">\n",
              "      <th></th>\n",
              "      <th>reviews.text</th>\n",
              "      <th>sentiment</th>\n",
              "      <th>sentiment_scores</th>\n",
              "      <th>label</th>\n",
              "      <th>subjectivity</th>\n",
              "      <th>polarity</th>\n",
              "      <th>score</th>\n",
              "    </tr>\n",
              "  </thead>\n",
              "  <tbody>\n",
              "    <tr>\n",
              "      <th>0</th>\n",
              "      <td>purchase black fridaypros great price even sal...</td>\n",
              "      <td>Positive</td>\n",
              "      <td>0.96</td>\n",
              "      <td>positive</td>\n",
              "      <td>0.693056</td>\n",
              "      <td>0.693056</td>\n",
              "      <td>positive</td>\n",
              "    </tr>\n",
              "    <tr>\n",
              "      <th>1</th>\n",
              "      <td>purchase two amazon echo plus two dot plus fou...</td>\n",
              "      <td>Positive</td>\n",
              "      <td>0.96</td>\n",
              "      <td>positive</td>\n",
              "      <td>0.498214</td>\n",
              "      <td>0.498214</td>\n",
              "      <td>positive</td>\n",
              "    </tr>\n",
              "    <tr>\n",
              "      <th>2</th>\n",
              "      <td>average alexa option show things screen still ...</td>\n",
              "      <td>Neutral</td>\n",
              "      <td>0.00</td>\n",
              "      <td>neutral</td>\n",
              "      <td>0.400000</td>\n",
              "      <td>0.400000</td>\n",
              "      <td>positive</td>\n",
              "    </tr>\n",
              "    <tr>\n",
              "      <th>3</th>\n",
              "      <td>good product exactly want good price</td>\n",
              "      <td>Positive</td>\n",
              "      <td>0.73</td>\n",
              "      <td>positive</td>\n",
              "      <td>0.483333</td>\n",
              "      <td>0.483333</td>\n",
              "      <td>positive</td>\n",
              "    </tr>\n",
              "    <tr>\n",
              "      <th>4</th>\n",
              "      <td>rd one purchase buy one nieces case compare on...</td>\n",
              "      <td>Positive</td>\n",
              "      <td>0.13</td>\n",
              "      <td>positive</td>\n",
              "      <td>0.500000</td>\n",
              "      <td>0.500000</td>\n",
              "      <td>positive</td>\n",
              "    </tr>\n",
              "  </tbody>\n",
              "</table>\n",
              "</div>\n",
              "      <button class=\"colab-df-convert\" onclick=\"convertToInteractive('df-0b09305a-4ac1-4aff-a895-1c5a7593054b')\"\n",
              "              title=\"Convert this dataframe to an interactive table.\"\n",
              "              style=\"display:none;\">\n",
              "        \n",
              "  <svg xmlns=\"http://www.w3.org/2000/svg\" height=\"24px\"viewBox=\"0 0 24 24\"\n",
              "       width=\"24px\">\n",
              "    <path d=\"M0 0h24v24H0V0z\" fill=\"none\"/>\n",
              "    <path d=\"M18.56 5.44l.94 2.06.94-2.06 2.06-.94-2.06-.94-.94-2.06-.94 2.06-2.06.94zm-11 1L8.5 8.5l.94-2.06 2.06-.94-2.06-.94L8.5 2.5l-.94 2.06-2.06.94zm10 10l.94 2.06.94-2.06 2.06-.94-2.06-.94-.94-2.06-.94 2.06-2.06.94z\"/><path d=\"M17.41 7.96l-1.37-1.37c-.4-.4-.92-.59-1.43-.59-.52 0-1.04.2-1.43.59L10.3 9.45l-7.72 7.72c-.78.78-.78 2.05 0 2.83L4 21.41c.39.39.9.59 1.41.59.51 0 1.02-.2 1.41-.59l7.78-7.78 2.81-2.81c.8-.78.8-2.07 0-2.86zM5.41 20L4 18.59l7.72-7.72 1.47 1.35L5.41 20z\"/>\n",
              "  </svg>\n",
              "      </button>\n",
              "      \n",
              "  <style>\n",
              "    .colab-df-container {\n",
              "      display:flex;\n",
              "      flex-wrap:wrap;\n",
              "      gap: 12px;\n",
              "    }\n",
              "\n",
              "    .colab-df-convert {\n",
              "      background-color: #E8F0FE;\n",
              "      border: none;\n",
              "      border-radius: 50%;\n",
              "      cursor: pointer;\n",
              "      display: none;\n",
              "      fill: #1967D2;\n",
              "      height: 32px;\n",
              "      padding: 0 0 0 0;\n",
              "      width: 32px;\n",
              "    }\n",
              "\n",
              "    .colab-df-convert:hover {\n",
              "      background-color: #E2EBFA;\n",
              "      box-shadow: 0px 1px 2px rgba(60, 64, 67, 0.3), 0px 1px 3px 1px rgba(60, 64, 67, 0.15);\n",
              "      fill: #174EA6;\n",
              "    }\n",
              "\n",
              "    [theme=dark] .colab-df-convert {\n",
              "      background-color: #3B4455;\n",
              "      fill: #D2E3FC;\n",
              "    }\n",
              "\n",
              "    [theme=dark] .colab-df-convert:hover {\n",
              "      background-color: #434B5C;\n",
              "      box-shadow: 0px 1px 3px 1px rgba(0, 0, 0, 0.15);\n",
              "      filter: drop-shadow(0px 1px 2px rgba(0, 0, 0, 0.3));\n",
              "      fill: #FFFFFF;\n",
              "    }\n",
              "  </style>\n",
              "\n",
              "      <script>\n",
              "        const buttonEl =\n",
              "          document.querySelector('#df-0b09305a-4ac1-4aff-a895-1c5a7593054b button.colab-df-convert');\n",
              "        buttonEl.style.display =\n",
              "          google.colab.kernel.accessAllowed ? 'block' : 'none';\n",
              "\n",
              "        async function convertToInteractive(key) {\n",
              "          const element = document.querySelector('#df-0b09305a-4ac1-4aff-a895-1c5a7593054b');\n",
              "          const dataTable =\n",
              "            await google.colab.kernel.invokeFunction('convertToInteractive',\n",
              "                                                     [key], {});\n",
              "          if (!dataTable) return;\n",
              "\n",
              "          const docLinkHtml = 'Like what you see? Visit the ' +\n",
              "            '<a target=\"_blank\" href=https://colab.research.google.com/notebooks/data_table.ipynb>data table notebook</a>'\n",
              "            + ' to learn more about interactive tables.';\n",
              "          element.innerHTML = '';\n",
              "          dataTable['output_type'] = 'display_data';\n",
              "          await google.colab.output.renderOutput(dataTable, element);\n",
              "          const docLink = document.createElement('div');\n",
              "          docLink.innerHTML = docLinkHtml;\n",
              "          element.appendChild(docLink);\n",
              "        }\n",
              "      </script>\n",
              "    </div>\n",
              "  </div>\n",
              "  "
            ]
          },
          "metadata": {},
          "execution_count": 33
        }
      ]
    },
    {
      "cell_type": "code",
      "source": [
        "train[\"score\"].value_counts()"
      ],
      "metadata": {
        "colab": {
          "base_uri": "https://localhost:8080/"
        },
        "id": "0oC_0-o9vZ_y",
        "outputId": "9b26ec46-ffdb-4368-cdb8-e3cca9d1ac77"
      },
      "execution_count": null,
      "outputs": [
        {
          "output_type": "execute_result",
          "data": {
            "text/plain": [
              "positive    3762\n",
              "neutral      180\n",
              "Name: score, dtype: int64"
            ]
          },
          "metadata": {},
          "execution_count": 34
        }
      ]
    },
    {
      "cell_type": "code",
      "source": [
        "train['sentiment'].value_counts()"
      ],
      "metadata": {
        "colab": {
          "base_uri": "https://localhost:8080/"
        },
        "id": "UtBlC1hMvh9P",
        "outputId": "eec8e3dd-92bd-4331-c607-54c7f15939ff"
      },
      "execution_count": null,
      "outputs": [
        {
          "output_type": "execute_result",
          "data": {
            "text/plain": [
              "Positive    3694\n",
              "Neutral      158\n",
              "Negative      90\n",
              "Name: sentiment, dtype: int64"
            ]
          },
          "metadata": {},
          "execution_count": 35
        }
      ]
    },
    {
      "cell_type": "code",
      "source": [
        "train['label'].value_counts()"
      ],
      "metadata": {
        "colab": {
          "base_uri": "https://localhost:8080/"
        },
        "id": "xvgy44wUvpSo",
        "outputId": "0b3c6ff1-2158-4d1b-c357-130598df8757"
      },
      "execution_count": null,
      "outputs": [
        {
          "output_type": "execute_result",
          "data": {
            "text/plain": [
              "positive    3663\n",
              "negative     157\n",
              "neutral      122\n",
              "Name: label, dtype: int64"
            ]
          },
          "metadata": {},
          "execution_count": 36
        }
      ]
    },
    {
      "cell_type": "markdown",
      "source": [
        "Insights on engineering sentiment scores:\n",
        "\n",
        "> Engineering sentiment scores alters the distribution of target variable. When vader's sentiment intensity analyzer was used, more neutral sentiments were observed, they increased from 90 to 122 whilst positive and negative sentiment changed by 1 each. When polarity scores were calculated using textblob, the engineered feature only had positive and neutral sentiments with no negative sentiments. \n",
        "\n"
      ],
      "metadata": {
        "id": "91PXGnhRwSKU"
      }
    }
  ],
  "metadata": {
    "colab": {
      "collapsed_sections": [],
      "name": "Week2_Ecommerce_AI_Capstone.ipynb",
      "provenance": []
    },
    "kernelspec": {
      "display_name": "Python 3",
      "name": "python3"
    },
    "language_info": {
      "name": "python"
    }
  },
  "nbformat": 4,
  "nbformat_minor": 0
}